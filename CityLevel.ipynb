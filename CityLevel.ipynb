{
 "cells": [
  {
   "cell_type": "code",
   "execution_count": 1,
   "metadata": {
    "collapsed": true,
    "pycharm": {
     "name": "#%%\n"
    }
   },
   "outputs": [
    {
     "data": {
      "text/plain": "             date   county  fips                       place  confirmed_cases  \\\n0      2020-04-08  Alameda     1                     Alameda               18   \n1      2020-04-08  Alameda     1                      Albany                1   \n2      2020-04-08  Alameda     1                    Berkeley               30   \n3      2020-04-08  Alameda     1                      Dublin               14   \n4      2020-04-08  Alameda     1                  Emeryville                1   \n...           ...      ...   ...                         ...              ...   \n26755  2020-05-07     Yolo   113                    Woodland               84   \n26756  2020-05-08     Yolo   113                       Davis               19   \n26757  2020-05-08     Yolo   113             West Sacramento               58   \n26758  2020-05-08     Yolo   113  Winters and unincorporated               11   \n26759  2020-05-08     Yolo   113                    Woodland               84   \n\n             note           x          y  \n0             NaN -122.274444  37.756111  \n1      9 or fewer -122.297778  37.886944  \n2             NaN -122.272778  37.871667  \n3             NaN -121.935833  37.702222  \n4      9 or fewer -122.285278  37.831389  \n...           ...         ...        ...  \n26755         NaN -121.773333  38.678611  \n26756         NaN -121.738056  38.553889  \n26757         NaN -121.530278  38.580556  \n26758         NaN -121.970833  38.525000  \n26759         NaN -121.773333  38.678611  \n\n[26760 rows x 8 columns]",
      "text/html": "<div>\n<style scoped>\n    .dataframe tbody tr th:only-of-type {\n        vertical-align: middle;\n    }\n\n    .dataframe tbody tr th {\n        vertical-align: top;\n    }\n\n    .dataframe thead th {\n        text-align: right;\n    }\n</style>\n<table border=\"1\" class=\"dataframe\">\n  <thead>\n    <tr style=\"text-align: right;\">\n      <th></th>\n      <th>date</th>\n      <th>county</th>\n      <th>fips</th>\n      <th>place</th>\n      <th>confirmed_cases</th>\n      <th>note</th>\n      <th>x</th>\n      <th>y</th>\n    </tr>\n  </thead>\n  <tbody>\n    <tr>\n      <th>0</th>\n      <td>2020-04-08</td>\n      <td>Alameda</td>\n      <td>1</td>\n      <td>Alameda</td>\n      <td>18</td>\n      <td>NaN</td>\n      <td>-122.274444</td>\n      <td>37.756111</td>\n    </tr>\n    <tr>\n      <th>1</th>\n      <td>2020-04-08</td>\n      <td>Alameda</td>\n      <td>1</td>\n      <td>Albany</td>\n      <td>1</td>\n      <td>9 or fewer</td>\n      <td>-122.297778</td>\n      <td>37.886944</td>\n    </tr>\n    <tr>\n      <th>2</th>\n      <td>2020-04-08</td>\n      <td>Alameda</td>\n      <td>1</td>\n      <td>Berkeley</td>\n      <td>30</td>\n      <td>NaN</td>\n      <td>-122.272778</td>\n      <td>37.871667</td>\n    </tr>\n    <tr>\n      <th>3</th>\n      <td>2020-04-08</td>\n      <td>Alameda</td>\n      <td>1</td>\n      <td>Dublin</td>\n      <td>14</td>\n      <td>NaN</td>\n      <td>-121.935833</td>\n      <td>37.702222</td>\n    </tr>\n    <tr>\n      <th>4</th>\n      <td>2020-04-08</td>\n      <td>Alameda</td>\n      <td>1</td>\n      <td>Emeryville</td>\n      <td>1</td>\n      <td>9 or fewer</td>\n      <td>-122.285278</td>\n      <td>37.831389</td>\n    </tr>\n    <tr>\n      <th>...</th>\n      <td>...</td>\n      <td>...</td>\n      <td>...</td>\n      <td>...</td>\n      <td>...</td>\n      <td>...</td>\n      <td>...</td>\n      <td>...</td>\n    </tr>\n    <tr>\n      <th>26755</th>\n      <td>2020-05-07</td>\n      <td>Yolo</td>\n      <td>113</td>\n      <td>Woodland</td>\n      <td>84</td>\n      <td>NaN</td>\n      <td>-121.773333</td>\n      <td>38.678611</td>\n    </tr>\n    <tr>\n      <th>26756</th>\n      <td>2020-05-08</td>\n      <td>Yolo</td>\n      <td>113</td>\n      <td>Davis</td>\n      <td>19</td>\n      <td>NaN</td>\n      <td>-121.738056</td>\n      <td>38.553889</td>\n    </tr>\n    <tr>\n      <th>26757</th>\n      <td>2020-05-08</td>\n      <td>Yolo</td>\n      <td>113</td>\n      <td>West Sacramento</td>\n      <td>58</td>\n      <td>NaN</td>\n      <td>-121.530278</td>\n      <td>38.580556</td>\n    </tr>\n    <tr>\n      <th>26758</th>\n      <td>2020-05-08</td>\n      <td>Yolo</td>\n      <td>113</td>\n      <td>Winters and unincorporated</td>\n      <td>11</td>\n      <td>NaN</td>\n      <td>-121.970833</td>\n      <td>38.525000</td>\n    </tr>\n    <tr>\n      <th>26759</th>\n      <td>2020-05-08</td>\n      <td>Yolo</td>\n      <td>113</td>\n      <td>Woodland</td>\n      <td>84</td>\n      <td>NaN</td>\n      <td>-121.773333</td>\n      <td>38.678611</td>\n    </tr>\n  </tbody>\n</table>\n<p>26760 rows × 8 columns</p>\n</div>"
     },
     "execution_count": 1,
     "metadata": {},
     "output_type": "execute_result"
    }
   ],
   "source": [
    "import pandas as pd\n",
    "\n",
    "city_df = pd.read_csv(\"https://raw.githubusercontent.com/datadesk/california-coronavirus-data/master/latimes-place-totals.csv\")\n",
    "city_df.x = city_df.x.abs() * -1  # Correcting a mistake in longitude\n",
    "city_df.x = city_df.x.fillna(0)\n",
    "city_df.y = city_df.y.fillna(0)\n",
    "city_df"
   ]
  },
  {
   "cell_type": "markdown",
   "source": [
    "New python package for finding zipcode called uszipcode\n",
    "Can find zipcode based on coordinates\n",
    "https://pypi.org/project/uszipcode/"
   ],
   "metadata": {
    "collapsed": false,
    "pycharm": {
     "name": "#%% md\n"
    }
   }
  },
  {
   "cell_type": "code",
   "execution_count": 2,
   "outputs": [
    {
     "data": {
      "text/plain": "SimpleZipcode(zipcode='95776', zipcode_type='Standard', major_city='Woodland', post_office_city='Woodland, CA', common_city_list=['Woodland'], county='Yolo County', state='CA', lat=38.7, lng=-121.7, timezone='Pacific', radius_in_miles=11.0, area_code_list=['530'], population=21902, population_density=237.0, land_area_in_sqmi=92.43, water_area_in_sqmi=1.12, housing_units=6824, occupied_housing_units=6464, median_home_value=248000, median_household_income=61599, bounds_west=-121.781382, bounds_east=-121.629202, bounds_north=38.803028, bounds_south=38.553296)"
     },
     "execution_count": 2,
     "metadata": {},
     "output_type": "execute_result"
    }
   ],
   "source": [
    "from uszipcode import SearchEngine\n",
    "search = SearchEngine(simple_zipcode=True)\n",
    "result = search.by_coordinates(38.678611, -121.773333, radius=30, returns=1)\n",
    "result[0]\n",
    "#int(result[0].zipcode)"
   ],
   "metadata": {
    "collapsed": false,
    "pycharm": {
     "name": "#%%\n"
    }
   }
  },
  {
   "cell_type": "markdown",
   "source": [
    "Look for zipcode for the dataframe"
   ],
   "metadata": {
    "collapsed": false,
    "pycharm": {
     "name": "#%% md\n"
    }
   }
  },
  {
   "cell_type": "code",
   "execution_count": 3,
   "outputs": [
    {
     "data": {
      "text/plain": "             date   county  fips                       place  confirmed_cases  \\\n0      2020-04-08  Alameda     1                     Alameda               18   \n1      2020-04-08  Alameda     1                      Albany                1   \n2      2020-04-08  Alameda     1                    Berkeley               30   \n3      2020-04-08  Alameda     1                      Dublin               14   \n4      2020-04-08  Alameda     1                  Emeryville                1   \n...           ...      ...   ...                         ...              ...   \n26755  2020-05-07     Yolo   113                    Woodland               84   \n26756  2020-05-08     Yolo   113                       Davis               19   \n26757  2020-05-08     Yolo   113             West Sacramento               58   \n26758  2020-05-08     Yolo   113  Winters and unincorporated               11   \n26759  2020-05-08     Yolo   113                    Woodland               84   \n\n             note           x          y    zip  \n0             NaN -122.274444  37.756111  94501  \n1      9 or fewer -122.297778  37.886944  94706  \n2             NaN -122.272778  37.871667  94703  \n3             NaN -121.935833  37.702222  94568  \n4      9 or fewer -122.285278  37.831389  94608  \n...           ...         ...        ...    ...  \n26755         NaN -121.773333  38.678611  95776  \n26756         NaN -121.738056  38.553889  95618  \n26757         NaN -121.530278  38.580556  95605  \n26758         NaN -121.970833  38.525000  95694  \n26759         NaN -121.773333  38.678611  95776  \n\n[26760 rows x 9 columns]",
      "text/html": "<div>\n<style scoped>\n    .dataframe tbody tr th:only-of-type {\n        vertical-align: middle;\n    }\n\n    .dataframe tbody tr th {\n        vertical-align: top;\n    }\n\n    .dataframe thead th {\n        text-align: right;\n    }\n</style>\n<table border=\"1\" class=\"dataframe\">\n  <thead>\n    <tr style=\"text-align: right;\">\n      <th></th>\n      <th>date</th>\n      <th>county</th>\n      <th>fips</th>\n      <th>place</th>\n      <th>confirmed_cases</th>\n      <th>note</th>\n      <th>x</th>\n      <th>y</th>\n      <th>zip</th>\n    </tr>\n  </thead>\n  <tbody>\n    <tr>\n      <th>0</th>\n      <td>2020-04-08</td>\n      <td>Alameda</td>\n      <td>1</td>\n      <td>Alameda</td>\n      <td>18</td>\n      <td>NaN</td>\n      <td>-122.274444</td>\n      <td>37.756111</td>\n      <td>94501</td>\n    </tr>\n    <tr>\n      <th>1</th>\n      <td>2020-04-08</td>\n      <td>Alameda</td>\n      <td>1</td>\n      <td>Albany</td>\n      <td>1</td>\n      <td>9 or fewer</td>\n      <td>-122.297778</td>\n      <td>37.886944</td>\n      <td>94706</td>\n    </tr>\n    <tr>\n      <th>2</th>\n      <td>2020-04-08</td>\n      <td>Alameda</td>\n      <td>1</td>\n      <td>Berkeley</td>\n      <td>30</td>\n      <td>NaN</td>\n      <td>-122.272778</td>\n      <td>37.871667</td>\n      <td>94703</td>\n    </tr>\n    <tr>\n      <th>3</th>\n      <td>2020-04-08</td>\n      <td>Alameda</td>\n      <td>1</td>\n      <td>Dublin</td>\n      <td>14</td>\n      <td>NaN</td>\n      <td>-121.935833</td>\n      <td>37.702222</td>\n      <td>94568</td>\n    </tr>\n    <tr>\n      <th>4</th>\n      <td>2020-04-08</td>\n      <td>Alameda</td>\n      <td>1</td>\n      <td>Emeryville</td>\n      <td>1</td>\n      <td>9 or fewer</td>\n      <td>-122.285278</td>\n      <td>37.831389</td>\n      <td>94608</td>\n    </tr>\n    <tr>\n      <th>...</th>\n      <td>...</td>\n      <td>...</td>\n      <td>...</td>\n      <td>...</td>\n      <td>...</td>\n      <td>...</td>\n      <td>...</td>\n      <td>...</td>\n      <td>...</td>\n    </tr>\n    <tr>\n      <th>26755</th>\n      <td>2020-05-07</td>\n      <td>Yolo</td>\n      <td>113</td>\n      <td>Woodland</td>\n      <td>84</td>\n      <td>NaN</td>\n      <td>-121.773333</td>\n      <td>38.678611</td>\n      <td>95776</td>\n    </tr>\n    <tr>\n      <th>26756</th>\n      <td>2020-05-08</td>\n      <td>Yolo</td>\n      <td>113</td>\n      <td>Davis</td>\n      <td>19</td>\n      <td>NaN</td>\n      <td>-121.738056</td>\n      <td>38.553889</td>\n      <td>95618</td>\n    </tr>\n    <tr>\n      <th>26757</th>\n      <td>2020-05-08</td>\n      <td>Yolo</td>\n      <td>113</td>\n      <td>West Sacramento</td>\n      <td>58</td>\n      <td>NaN</td>\n      <td>-121.530278</td>\n      <td>38.580556</td>\n      <td>95605</td>\n    </tr>\n    <tr>\n      <th>26758</th>\n      <td>2020-05-08</td>\n      <td>Yolo</td>\n      <td>113</td>\n      <td>Winters and unincorporated</td>\n      <td>11</td>\n      <td>NaN</td>\n      <td>-121.970833</td>\n      <td>38.525000</td>\n      <td>95694</td>\n    </tr>\n    <tr>\n      <th>26759</th>\n      <td>2020-05-08</td>\n      <td>Yolo</td>\n      <td>113</td>\n      <td>Woodland</td>\n      <td>84</td>\n      <td>NaN</td>\n      <td>-121.773333</td>\n      <td>38.678611</td>\n      <td>95776</td>\n    </tr>\n  </tbody>\n</table>\n<p>26760 rows × 9 columns</p>\n</div>"
     },
     "execution_count": 3,
     "metadata": {},
     "output_type": "execute_result"
    }
   ],
   "source": [
    "def search_zip(df):\n",
    "    if df.y == 0:\n",
    "        return 0\n",
    "    result = search.by_coordinates(df.y, df.x, radius=30, returns=1)\n",
    "    return int(result[0].zipcode)\n",
    "\n",
    "# new = city_df[0:20].apply(lambda df: search.by_coordinates(df.y, df.x, radius=30, returns=1), axis=1)\n",
    "city_df['zip'] = city_df.apply(lambda df: search_zip(df), axis=1)\n",
    "city_df"
   ],
   "metadata": {
    "collapsed": false,
    "pycharm": {
     "name": "#%%\n"
    }
   }
  },
  {
   "cell_type": "code",
   "execution_count": 4,
   "outputs": [],
   "source": [
    "city_df.to_csv(\"city_data.csv\", index=False)\n"
   ],
   "metadata": {
    "collapsed": false,
    "pycharm": {
     "name": "#%%\n"
    }
   }
  }
 ],
 "metadata": {
  "kernelspec": {
   "display_name": "Python 3",
   "language": "python",
   "name": "python3"
  },
  "language_info": {
   "codemirror_mode": {
    "name": "ipython",
    "version": 2
   },
   "file_extension": ".py",
   "mimetype": "text/x-python",
   "name": "python",
   "nbconvert_exporter": "python",
   "pygments_lexer": "ipython2",
   "version": "2.7.6"
  }
 },
 "nbformat": 4,
 "nbformat_minor": 0
}