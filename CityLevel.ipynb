{
 "cells": [
  {
   "cell_type": "code",
   "execution_count": 1,
   "metadata": {
    "collapsed": true,
    "pycharm": {
     "name": "#%%\n"
    }
   },
   "outputs": [
    {
     "data": {
      "text/plain": "             date       county  fips                       place  \\\n0      2020-03-16  Los Angeles    37                    Alhambra   \n1      2020-03-16  Los Angeles    37                     Arcadia   \n2      2020-03-16  Los Angeles    37               Beverly Hills   \n3      2020-03-16  Los Angeles    37               Boyle Heights   \n4      2020-03-16  Los Angeles    37                      Carson   \n...           ...          ...   ...                         ...   \n28195  2020-05-10       Tulare   107                    Woodlake   \n28196  2020-05-10         Yolo   113                       Davis   \n28197  2020-05-10         Yolo   113             West Sacramento   \n28198  2020-05-10         Yolo   113  Winters and unincorporated   \n28199  2020-05-10         Yolo   113                    Woodland   \n\n       confirmed_cases note           x          y  \n0                    2  NaN -118.135504  34.083961  \n1                    1  NaN -118.037297  34.134186  \n2                    1  NaN -118.402109  34.078543  \n3                    5  NaN -118.205330  34.038150  \n4                    1  NaN -118.255878  33.837391  \n...                ...  ...         ...        ...  \n28195               11  NaN -119.096931  36.413681  \n28196               20  NaN -121.738056  38.553889  \n28197               58  NaN -121.530278  38.580556  \n28198               11  NaN -121.970833  38.525000  \n28199               84  NaN -121.773333  38.678611  \n\n[28200 rows x 8 columns]",
      "text/html": "<div>\n<style scoped>\n    .dataframe tbody tr th:only-of-type {\n        vertical-align: middle;\n    }\n\n    .dataframe tbody tr th {\n        vertical-align: top;\n    }\n\n    .dataframe thead th {\n        text-align: right;\n    }\n</style>\n<table border=\"1\" class=\"dataframe\">\n  <thead>\n    <tr style=\"text-align: right;\">\n      <th></th>\n      <th>date</th>\n      <th>county</th>\n      <th>fips</th>\n      <th>place</th>\n      <th>confirmed_cases</th>\n      <th>note</th>\n      <th>x</th>\n      <th>y</th>\n    </tr>\n  </thead>\n  <tbody>\n    <tr>\n      <th>0</th>\n      <td>2020-03-16</td>\n      <td>Los Angeles</td>\n      <td>37</td>\n      <td>Alhambra</td>\n      <td>2</td>\n      <td>NaN</td>\n      <td>-118.135504</td>\n      <td>34.083961</td>\n    </tr>\n    <tr>\n      <th>1</th>\n      <td>2020-03-16</td>\n      <td>Los Angeles</td>\n      <td>37</td>\n      <td>Arcadia</td>\n      <td>1</td>\n      <td>NaN</td>\n      <td>-118.037297</td>\n      <td>34.134186</td>\n    </tr>\n    <tr>\n      <th>2</th>\n      <td>2020-03-16</td>\n      <td>Los Angeles</td>\n      <td>37</td>\n      <td>Beverly Hills</td>\n      <td>1</td>\n      <td>NaN</td>\n      <td>-118.402109</td>\n      <td>34.078543</td>\n    </tr>\n    <tr>\n      <th>3</th>\n      <td>2020-03-16</td>\n      <td>Los Angeles</td>\n      <td>37</td>\n      <td>Boyle Heights</td>\n      <td>5</td>\n      <td>NaN</td>\n      <td>-118.205330</td>\n      <td>34.038150</td>\n    </tr>\n    <tr>\n      <th>4</th>\n      <td>2020-03-16</td>\n      <td>Los Angeles</td>\n      <td>37</td>\n      <td>Carson</td>\n      <td>1</td>\n      <td>NaN</td>\n      <td>-118.255878</td>\n      <td>33.837391</td>\n    </tr>\n    <tr>\n      <th>...</th>\n      <td>...</td>\n      <td>...</td>\n      <td>...</td>\n      <td>...</td>\n      <td>...</td>\n      <td>...</td>\n      <td>...</td>\n      <td>...</td>\n    </tr>\n    <tr>\n      <th>28195</th>\n      <td>2020-05-10</td>\n      <td>Tulare</td>\n      <td>107</td>\n      <td>Woodlake</td>\n      <td>11</td>\n      <td>NaN</td>\n      <td>-119.096931</td>\n      <td>36.413681</td>\n    </tr>\n    <tr>\n      <th>28196</th>\n      <td>2020-05-10</td>\n      <td>Yolo</td>\n      <td>113</td>\n      <td>Davis</td>\n      <td>20</td>\n      <td>NaN</td>\n      <td>-121.738056</td>\n      <td>38.553889</td>\n    </tr>\n    <tr>\n      <th>28197</th>\n      <td>2020-05-10</td>\n      <td>Yolo</td>\n      <td>113</td>\n      <td>West Sacramento</td>\n      <td>58</td>\n      <td>NaN</td>\n      <td>-121.530278</td>\n      <td>38.580556</td>\n    </tr>\n    <tr>\n      <th>28198</th>\n      <td>2020-05-10</td>\n      <td>Yolo</td>\n      <td>113</td>\n      <td>Winters and unincorporated</td>\n      <td>11</td>\n      <td>NaN</td>\n      <td>-121.970833</td>\n      <td>38.525000</td>\n    </tr>\n    <tr>\n      <th>28199</th>\n      <td>2020-05-10</td>\n      <td>Yolo</td>\n      <td>113</td>\n      <td>Woodland</td>\n      <td>84</td>\n      <td>NaN</td>\n      <td>-121.773333</td>\n      <td>38.678611</td>\n    </tr>\n  </tbody>\n</table>\n<p>28200 rows × 8 columns</p>\n</div>"
     },
     "execution_count": 1,
     "metadata": {},
     "output_type": "execute_result"
    }
   ],
   "source": [
    "import pandas as pd\n",
    "\n",
    "city_df = pd.read_csv(\"https://raw.githubusercontent.com/datadesk/california-coronavirus-data/master/latimes-place-totals.csv\")\n",
    "city_df.x = city_df.x.abs() * -1  # Correcting a mistake in longitude\n",
    "city_df.x = city_df.x.fillna(0)\n",
    "city_df.y = city_df.y.fillna(0)\n",
    "city_df"
   ]
  },
  {
   "cell_type": "markdown",
   "source": [
    "New python package for finding zipcode called uszipcode\n",
    "Can find zipcode based on coordinates\n",
    "https://pypi.org/project/uszipcode/"
   ],
   "metadata": {
    "collapsed": false,
    "pycharm": {
     "name": "#%% md\n"
    }
   }
  },
  {
   "cell_type": "code",
   "execution_count": 2,
   "outputs": [
    {
     "data": {
      "text/plain": "SimpleZipcode(zipcode='95776', zipcode_type='Standard', major_city='Woodland', post_office_city='Woodland, CA', common_city_list=['Woodland'], county='Yolo County', state='CA', lat=38.7, lng=-121.7, timezone='Pacific', radius_in_miles=11.0, area_code_list=['530'], population=21902, population_density=237.0, land_area_in_sqmi=92.43, water_area_in_sqmi=1.12, housing_units=6824, occupied_housing_units=6464, median_home_value=248000, median_household_income=61599, bounds_west=-121.781382, bounds_east=-121.629202, bounds_north=38.803028, bounds_south=38.553296)"
     },
     "execution_count": 2,
     "metadata": {},
     "output_type": "execute_result"
    }
   ],
   "source": [
    "from uszipcode import SearchEngine\n",
    "search = SearchEngine(simple_zipcode=True)\n",
    "result = search.by_coordinates(38.678611, -121.773333, radius=30, returns=1)\n",
    "result[0]"
   ],
   "metadata": {
    "collapsed": false,
    "pycharm": {
     "name": "#%%\n"
    }
   }
  },
  {
   "cell_type": "markdown",
   "source": [
    "Select unique cities and look for zip code in a new table"
   ],
   "metadata": {
    "collapsed": false,
    "pycharm": {
     "name": "#%% md\n"
    }
   }
  },
  {
   "cell_type": "code",
   "execution_count": 3,
   "outputs": [
    {
     "data": {
      "text/plain": "              county                   place           x          y    zip  \\\n0        Los Angeles                Alhambra -118.135504  34.083961  91803   \n1        Los Angeles                 Arcadia -118.037297  34.134186  91006   \n2        Los Angeles           Beverly Hills -118.402109  34.078543  90212   \n3        Los Angeles           Boyle Heights -118.205330  34.038150  90033   \n4        Los Angeles                  Carson -118.255878  33.837391  90745   \n..               ...                     ...         ...        ...    ...   \n940        San Mateo                Woodside -122.253900  37.429900  94061   \n941          Alameda  Eden Area MAC (Ashland    0.000000   0.000000      0   \n942             Kern           93501: Mojave -118.194488  35.023791  93501   \n943      Los Angeles            Hidden Hills -118.661203  34.163749  91302   \n944  San Luis Obispo  San Luis Obispo (city)    0.000000   0.000000      0   \n\n     city_id  \n0          0  \n1          1  \n2          2  \n3          3  \n4          4  \n..       ...  \n940      940  \n941      941  \n942      942  \n943      943  \n944      944  \n\n[945 rows x 6 columns]",
      "text/html": "<div>\n<style scoped>\n    .dataframe tbody tr th:only-of-type {\n        vertical-align: middle;\n    }\n\n    .dataframe tbody tr th {\n        vertical-align: top;\n    }\n\n    .dataframe thead th {\n        text-align: right;\n    }\n</style>\n<table border=\"1\" class=\"dataframe\">\n  <thead>\n    <tr style=\"text-align: right;\">\n      <th></th>\n      <th>county</th>\n      <th>place</th>\n      <th>x</th>\n      <th>y</th>\n      <th>zip</th>\n      <th>city_id</th>\n    </tr>\n  </thead>\n  <tbody>\n    <tr>\n      <th>0</th>\n      <td>Los Angeles</td>\n      <td>Alhambra</td>\n      <td>-118.135504</td>\n      <td>34.083961</td>\n      <td>91803</td>\n      <td>0</td>\n    </tr>\n    <tr>\n      <th>1</th>\n      <td>Los Angeles</td>\n      <td>Arcadia</td>\n      <td>-118.037297</td>\n      <td>34.134186</td>\n      <td>91006</td>\n      <td>1</td>\n    </tr>\n    <tr>\n      <th>2</th>\n      <td>Los Angeles</td>\n      <td>Beverly Hills</td>\n      <td>-118.402109</td>\n      <td>34.078543</td>\n      <td>90212</td>\n      <td>2</td>\n    </tr>\n    <tr>\n      <th>3</th>\n      <td>Los Angeles</td>\n      <td>Boyle Heights</td>\n      <td>-118.205330</td>\n      <td>34.038150</td>\n      <td>90033</td>\n      <td>3</td>\n    </tr>\n    <tr>\n      <th>4</th>\n      <td>Los Angeles</td>\n      <td>Carson</td>\n      <td>-118.255878</td>\n      <td>33.837391</td>\n      <td>90745</td>\n      <td>4</td>\n    </tr>\n    <tr>\n      <th>...</th>\n      <td>...</td>\n      <td>...</td>\n      <td>...</td>\n      <td>...</td>\n      <td>...</td>\n      <td>...</td>\n    </tr>\n    <tr>\n      <th>940</th>\n      <td>San Mateo</td>\n      <td>Woodside</td>\n      <td>-122.253900</td>\n      <td>37.429900</td>\n      <td>94061</td>\n      <td>940</td>\n    </tr>\n    <tr>\n      <th>941</th>\n      <td>Alameda</td>\n      <td>Eden Area MAC (Ashland</td>\n      <td>0.000000</td>\n      <td>0.000000</td>\n      <td>0</td>\n      <td>941</td>\n    </tr>\n    <tr>\n      <th>942</th>\n      <td>Kern</td>\n      <td>93501: Mojave</td>\n      <td>-118.194488</td>\n      <td>35.023791</td>\n      <td>93501</td>\n      <td>942</td>\n    </tr>\n    <tr>\n      <th>943</th>\n      <td>Los Angeles</td>\n      <td>Hidden Hills</td>\n      <td>-118.661203</td>\n      <td>34.163749</td>\n      <td>91302</td>\n      <td>943</td>\n    </tr>\n    <tr>\n      <th>944</th>\n      <td>San Luis Obispo</td>\n      <td>San Luis Obispo (city)</td>\n      <td>0.000000</td>\n      <td>0.000000</td>\n      <td>0</td>\n      <td>944</td>\n    </tr>\n  </tbody>\n</table>\n<p>945 rows × 6 columns</p>\n</div>"
     },
     "execution_count": 3,
     "metadata": {},
     "output_type": "execute_result"
    }
   ],
   "source": [
    "city_data_df = pd.DataFrame()\n",
    "city_data_df = pd.concat([city_df.county, city_df.place, city_df.x, city_df.y], axis=1)\n",
    "city_data_df = city_data_df.drop_duplicates()\n",
    "\n",
    "def search_zip(df):\n",
    "    # If place name contains zip code, returns the zip code directly\n",
    "    if df.place[0:5].isnumeric():\n",
    "        return df.place[0:5]\n",
    "    if df.y == 0:\n",
    "        return 0\n",
    "    result = search.by_coordinates(df.y, df.x, radius=30, returns=1)\n",
    "    return result[0].zipcode\n",
    "\n",
    "city_data_df['zip'] = city_data_df.apply(search_zip, axis=1)\n",
    "city_data_df = city_data_df.reset_index(drop=True)\n",
    "city_data_df['city_id'] = city_data_df.index\n",
    "city_data_df"
   ],
   "metadata": {
    "collapsed": false,
    "pycharm": {
     "name": "#%%\n"
    }
   }
  },
  {
   "cell_type": "code",
   "execution_count": 4,
   "outputs": [
    {
     "data": {
      "text/plain": "             date           county  fips                   place  \\\n0      2020-03-16      Los Angeles    37                Alhambra   \n1      2020-03-17      Los Angeles    37                Alhambra   \n2      2020-03-18      Los Angeles    37                Alhambra   \n3      2020-03-19      Los Angeles    37                Alhambra   \n4      2020-03-20      Los Angeles    37                Alhambra   \n...           ...              ...   ...                     ...   \n28195  2020-05-10             Kern    29           93501: Mojave   \n28196  2020-05-09      Los Angeles    37            Hidden Hills   \n28197  2020-05-10      Los Angeles    37            Hidden Hills   \n28198  2020-05-09  San Luis Obispo    79  San Luis Obispo (city)   \n28199  2020-05-10  San Luis Obispo    79  San Luis Obispo (city)   \n\n       confirmed_cases note           x          y    zip  city_id  \n0                    2  NaN -118.135504  34.083961  91803        0  \n1                    1  NaN -118.135504  34.083961  91803        0  \n2                    1  NaN -118.135504  34.083961  91803        0  \n3                    2  NaN -118.135504  34.083961  91803        0  \n4                    3  NaN -118.135504  34.083961  91803        0  \n...                ...  ...         ...        ...    ...      ...  \n28195                1  NaN -118.194488  35.023791  93501      942  \n28196                1  NaN -118.661203  34.163749  91302      943  \n28197                1  NaN -118.661203  34.163749  91302      943  \n28198               17  NaN    0.000000   0.000000      0      944  \n28199               17  NaN    0.000000   0.000000      0      944  \n\n[28200 rows x 10 columns]",
      "text/html": "<div>\n<style scoped>\n    .dataframe tbody tr th:only-of-type {\n        vertical-align: middle;\n    }\n\n    .dataframe tbody tr th {\n        vertical-align: top;\n    }\n\n    .dataframe thead th {\n        text-align: right;\n    }\n</style>\n<table border=\"1\" class=\"dataframe\">\n  <thead>\n    <tr style=\"text-align: right;\">\n      <th></th>\n      <th>date</th>\n      <th>county</th>\n      <th>fips</th>\n      <th>place</th>\n      <th>confirmed_cases</th>\n      <th>note</th>\n      <th>x</th>\n      <th>y</th>\n      <th>zip</th>\n      <th>city_id</th>\n    </tr>\n  </thead>\n  <tbody>\n    <tr>\n      <th>0</th>\n      <td>2020-03-16</td>\n      <td>Los Angeles</td>\n      <td>37</td>\n      <td>Alhambra</td>\n      <td>2</td>\n      <td>NaN</td>\n      <td>-118.135504</td>\n      <td>34.083961</td>\n      <td>91803</td>\n      <td>0</td>\n    </tr>\n    <tr>\n      <th>1</th>\n      <td>2020-03-17</td>\n      <td>Los Angeles</td>\n      <td>37</td>\n      <td>Alhambra</td>\n      <td>1</td>\n      <td>NaN</td>\n      <td>-118.135504</td>\n      <td>34.083961</td>\n      <td>91803</td>\n      <td>0</td>\n    </tr>\n    <tr>\n      <th>2</th>\n      <td>2020-03-18</td>\n      <td>Los Angeles</td>\n      <td>37</td>\n      <td>Alhambra</td>\n      <td>1</td>\n      <td>NaN</td>\n      <td>-118.135504</td>\n      <td>34.083961</td>\n      <td>91803</td>\n      <td>0</td>\n    </tr>\n    <tr>\n      <th>3</th>\n      <td>2020-03-19</td>\n      <td>Los Angeles</td>\n      <td>37</td>\n      <td>Alhambra</td>\n      <td>2</td>\n      <td>NaN</td>\n      <td>-118.135504</td>\n      <td>34.083961</td>\n      <td>91803</td>\n      <td>0</td>\n    </tr>\n    <tr>\n      <th>4</th>\n      <td>2020-03-20</td>\n      <td>Los Angeles</td>\n      <td>37</td>\n      <td>Alhambra</td>\n      <td>3</td>\n      <td>NaN</td>\n      <td>-118.135504</td>\n      <td>34.083961</td>\n      <td>91803</td>\n      <td>0</td>\n    </tr>\n    <tr>\n      <th>...</th>\n      <td>...</td>\n      <td>...</td>\n      <td>...</td>\n      <td>...</td>\n      <td>...</td>\n      <td>...</td>\n      <td>...</td>\n      <td>...</td>\n      <td>...</td>\n      <td>...</td>\n    </tr>\n    <tr>\n      <th>28195</th>\n      <td>2020-05-10</td>\n      <td>Kern</td>\n      <td>29</td>\n      <td>93501: Mojave</td>\n      <td>1</td>\n      <td>NaN</td>\n      <td>-118.194488</td>\n      <td>35.023791</td>\n      <td>93501</td>\n      <td>942</td>\n    </tr>\n    <tr>\n      <th>28196</th>\n      <td>2020-05-09</td>\n      <td>Los Angeles</td>\n      <td>37</td>\n      <td>Hidden Hills</td>\n      <td>1</td>\n      <td>NaN</td>\n      <td>-118.661203</td>\n      <td>34.163749</td>\n      <td>91302</td>\n      <td>943</td>\n    </tr>\n    <tr>\n      <th>28197</th>\n      <td>2020-05-10</td>\n      <td>Los Angeles</td>\n      <td>37</td>\n      <td>Hidden Hills</td>\n      <td>1</td>\n      <td>NaN</td>\n      <td>-118.661203</td>\n      <td>34.163749</td>\n      <td>91302</td>\n      <td>943</td>\n    </tr>\n    <tr>\n      <th>28198</th>\n      <td>2020-05-09</td>\n      <td>San Luis Obispo</td>\n      <td>79</td>\n      <td>San Luis Obispo (city)</td>\n      <td>17</td>\n      <td>NaN</td>\n      <td>0.000000</td>\n      <td>0.000000</td>\n      <td>0</td>\n      <td>944</td>\n    </tr>\n    <tr>\n      <th>28199</th>\n      <td>2020-05-10</td>\n      <td>San Luis Obispo</td>\n      <td>79</td>\n      <td>San Luis Obispo (city)</td>\n      <td>17</td>\n      <td>NaN</td>\n      <td>0.000000</td>\n      <td>0.000000</td>\n      <td>0</td>\n      <td>944</td>\n    </tr>\n  </tbody>\n</table>\n<p>28200 rows × 10 columns</p>\n</div>"
     },
     "execution_count": 4,
     "metadata": {},
     "output_type": "execute_result"
    }
   ],
   "source": [
    "city_df = pd.merge(city_df, city_data_df, \"inner\", on=['county', 'place', 'x', 'y'])\n",
    "city_df"
   ],
   "metadata": {
    "collapsed": false,
    "pycharm": {
     "name": "#%%\n"
    }
   }
  },
  {
   "cell_type": "code",
   "execution_count": 6,
   "outputs": [
    {
     "data": {
      "text/plain": "             date           county  fips                   place  \\\n0      2020-03-16      Los Angeles    37                Alhambra   \n1      2020-03-17      Los Angeles    37                Alhambra   \n2      2020-03-18      Los Angeles    37                Alhambra   \n3      2020-03-19      Los Angeles    37                Alhambra   \n4      2020-03-20      Los Angeles    37                Alhambra   \n...           ...              ...   ...                     ...   \n28195  2020-05-10             Kern    29           93501: Mojave   \n28196  2020-05-09      Los Angeles    37            Hidden Hills   \n28197  2020-05-10      Los Angeles    37            Hidden Hills   \n28198  2020-05-09  San Luis Obispo    79  San Luis Obispo (city)   \n28199  2020-05-10  San Luis Obispo    79  San Luis Obispo (city)   \n\n       confirmed_cases note           x          y    zip  city_id  \\\n0                    2  NaN -118.135504  34.083961  91803        0   \n1                    1  NaN -118.135504  34.083961  91803        0   \n2                    1  NaN -118.135504  34.083961  91803        0   \n3                    2  NaN -118.135504  34.083961  91803        0   \n4                    3  NaN -118.135504  34.083961  91803        0   \n...                ...  ...         ...        ...    ...      ...   \n28195                1  NaN -118.194488  35.023791  93501      942   \n28196                1  NaN -118.661203  34.163749  91302      943   \n28197                1  NaN -118.661203  34.163749  91302      943   \n28198               17  NaN    0.000000   0.000000      0      944   \n28199               17  NaN    0.000000   0.000000      0      944   \n\n       daily_cases  rate  rate7day  \n0              0.0   0.0       0.0  \n1             -1.0  -0.5       0.0  \n2              0.0   0.0       0.0  \n3              1.0   1.0       0.0  \n4              1.0   0.5       0.0  \n...            ...   ...       ...  \n28195          0.0   0.0       0.0  \n28196          0.0   0.0       0.0  \n28197          0.0   0.0       0.0  \n28198          0.0   0.0       0.0  \n28199          0.0   0.0       0.0  \n\n[28200 rows x 13 columns]",
      "text/html": "<div>\n<style scoped>\n    .dataframe tbody tr th:only-of-type {\n        vertical-align: middle;\n    }\n\n    .dataframe tbody tr th {\n        vertical-align: top;\n    }\n\n    .dataframe thead th {\n        text-align: right;\n    }\n</style>\n<table border=\"1\" class=\"dataframe\">\n  <thead>\n    <tr style=\"text-align: right;\">\n      <th></th>\n      <th>date</th>\n      <th>county</th>\n      <th>fips</th>\n      <th>place</th>\n      <th>confirmed_cases</th>\n      <th>note</th>\n      <th>x</th>\n      <th>y</th>\n      <th>zip</th>\n      <th>city_id</th>\n      <th>daily_cases</th>\n      <th>rate</th>\n      <th>rate7day</th>\n    </tr>\n  </thead>\n  <tbody>\n    <tr>\n      <th>0</th>\n      <td>2020-03-16</td>\n      <td>Los Angeles</td>\n      <td>37</td>\n      <td>Alhambra</td>\n      <td>2</td>\n      <td>NaN</td>\n      <td>-118.135504</td>\n      <td>34.083961</td>\n      <td>91803</td>\n      <td>0</td>\n      <td>0.0</td>\n      <td>0.0</td>\n      <td>0.0</td>\n    </tr>\n    <tr>\n      <th>1</th>\n      <td>2020-03-17</td>\n      <td>Los Angeles</td>\n      <td>37</td>\n      <td>Alhambra</td>\n      <td>1</td>\n      <td>NaN</td>\n      <td>-118.135504</td>\n      <td>34.083961</td>\n      <td>91803</td>\n      <td>0</td>\n      <td>-1.0</td>\n      <td>-0.5</td>\n      <td>0.0</td>\n    </tr>\n    <tr>\n      <th>2</th>\n      <td>2020-03-18</td>\n      <td>Los Angeles</td>\n      <td>37</td>\n      <td>Alhambra</td>\n      <td>1</td>\n      <td>NaN</td>\n      <td>-118.135504</td>\n      <td>34.083961</td>\n      <td>91803</td>\n      <td>0</td>\n      <td>0.0</td>\n      <td>0.0</td>\n      <td>0.0</td>\n    </tr>\n    <tr>\n      <th>3</th>\n      <td>2020-03-19</td>\n      <td>Los Angeles</td>\n      <td>37</td>\n      <td>Alhambra</td>\n      <td>2</td>\n      <td>NaN</td>\n      <td>-118.135504</td>\n      <td>34.083961</td>\n      <td>91803</td>\n      <td>0</td>\n      <td>1.0</td>\n      <td>1.0</td>\n      <td>0.0</td>\n    </tr>\n    <tr>\n      <th>4</th>\n      <td>2020-03-20</td>\n      <td>Los Angeles</td>\n      <td>37</td>\n      <td>Alhambra</td>\n      <td>3</td>\n      <td>NaN</td>\n      <td>-118.135504</td>\n      <td>34.083961</td>\n      <td>91803</td>\n      <td>0</td>\n      <td>1.0</td>\n      <td>0.5</td>\n      <td>0.0</td>\n    </tr>\n    <tr>\n      <th>...</th>\n      <td>...</td>\n      <td>...</td>\n      <td>...</td>\n      <td>...</td>\n      <td>...</td>\n      <td>...</td>\n      <td>...</td>\n      <td>...</td>\n      <td>...</td>\n      <td>...</td>\n      <td>...</td>\n      <td>...</td>\n      <td>...</td>\n    </tr>\n    <tr>\n      <th>28195</th>\n      <td>2020-05-10</td>\n      <td>Kern</td>\n      <td>29</td>\n      <td>93501: Mojave</td>\n      <td>1</td>\n      <td>NaN</td>\n      <td>-118.194488</td>\n      <td>35.023791</td>\n      <td>93501</td>\n      <td>942</td>\n      <td>0.0</td>\n      <td>0.0</td>\n      <td>0.0</td>\n    </tr>\n    <tr>\n      <th>28196</th>\n      <td>2020-05-09</td>\n      <td>Los Angeles</td>\n      <td>37</td>\n      <td>Hidden Hills</td>\n      <td>1</td>\n      <td>NaN</td>\n      <td>-118.661203</td>\n      <td>34.163749</td>\n      <td>91302</td>\n      <td>943</td>\n      <td>0.0</td>\n      <td>0.0</td>\n      <td>0.0</td>\n    </tr>\n    <tr>\n      <th>28197</th>\n      <td>2020-05-10</td>\n      <td>Los Angeles</td>\n      <td>37</td>\n      <td>Hidden Hills</td>\n      <td>1</td>\n      <td>NaN</td>\n      <td>-118.661203</td>\n      <td>34.163749</td>\n      <td>91302</td>\n      <td>943</td>\n      <td>0.0</td>\n      <td>0.0</td>\n      <td>0.0</td>\n    </tr>\n    <tr>\n      <th>28198</th>\n      <td>2020-05-09</td>\n      <td>San Luis Obispo</td>\n      <td>79</td>\n      <td>San Luis Obispo (city)</td>\n      <td>17</td>\n      <td>NaN</td>\n      <td>0.000000</td>\n      <td>0.000000</td>\n      <td>0</td>\n      <td>944</td>\n      <td>0.0</td>\n      <td>0.0</td>\n      <td>0.0</td>\n    </tr>\n    <tr>\n      <th>28199</th>\n      <td>2020-05-10</td>\n      <td>San Luis Obispo</td>\n      <td>79</td>\n      <td>San Luis Obispo (city)</td>\n      <td>17</td>\n      <td>NaN</td>\n      <td>0.000000</td>\n      <td>0.000000</td>\n      <td>0</td>\n      <td>944</td>\n      <td>0.0</td>\n      <td>0.0</td>\n      <td>0.0</td>\n    </tr>\n  </tbody>\n</table>\n<p>28200 rows × 13 columns</p>\n</div>"
     },
     "execution_count": 6,
     "metadata": {},
     "output_type": "execute_result"
    }
   ],
   "source": [
    "import numpy as np\n",
    "\n",
    "# Suppress warnings\n",
    "pd.options.mode.chained_assignment = None\n",
    "\n",
    "city_id = city_df.city_id.unique()\n",
    "\n",
    "for i in city_id:\n",
    "    temp_df = city_df[city_df.city_id == i]\n",
    "    temp_df['daily_cases'] = temp_df['confirmed_cases'].diff().fillna(0)\n",
    "    temp_df['rate'] = temp_df['confirmed_cases'].pct_change().fillna(0)\n",
    "    temp_df['rate7day'] = temp_df['rate'].rolling(window=7).mean().fillna(0)\n",
    "    temp_df = temp_df.replace(np.inf, 0)\n",
    "    if i == 0:\n",
    "        new_df = temp_df\n",
    "    else:\n",
    "        new_df = pd.concat([new_df, temp_df])\n",
    "new_df"
   ],
   "metadata": {
    "collapsed": false,
    "pycharm": {
     "name": "#%%\n"
    }
   }
  },
  {
   "cell_type": "code",
   "execution_count": 7,
   "outputs": [],
   "source": [
    "new_df.to_csv(\"city_data.csv\", index=False)\n"
   ],
   "metadata": {
    "collapsed": false,
    "pycharm": {
     "name": "#%%\n"
    }
   }
  }
 ],
 "metadata": {
  "kernelspec": {
   "display_name": "Python 3",
   "language": "python",
   "name": "python3"
  },
  "language_info": {
   "codemirror_mode": {
    "name": "ipython",
    "version": 2
   },
   "file_extension": ".py",
   "mimetype": "text/x-python",
   "name": "python",
   "nbconvert_exporter": "python",
   "pygments_lexer": "ipython2",
   "version": "2.7.6"
  }
 },
 "nbformat": 4,
 "nbformat_minor": 0
}