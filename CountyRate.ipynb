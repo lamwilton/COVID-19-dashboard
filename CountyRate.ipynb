{
 "cells": [
  {
   "cell_type": "markdown",
   "metadata": {
    "collapsed": true,
    "pycharm": {
     "name": "#%% md\n"
    }
   },
   "source": [
    "# County data growth rate and 7day average\n",
    "\n",
    "Pull data from https://usafacts.org/visualizations/coronavirus-covid-19-spread-map/\n",
    "Merge cases and deaths, then compute growth rate of cases and deaths as well as 7day moving averages for each county\n",
    "Outputs combined_usafacts.csv"
   ]
  },
  {
   "cell_type": "markdown",
   "source": [
    "Read both csvs and inner join"
   ],
   "metadata": {
    "collapsed": false,
    "pycharm": {
     "name": "#%% md\n"
    }
   }
  },
  {
   "cell_type": "code",
   "execution_count": 1,
   "outputs": [
    {
     "data": {
      "text/plain": "        countyFIPS            County_Name State  stateFIPS     Date  Cases  \\\n0                0  Statewide Unallocated    AL          1  1/22/20      0   \n1                0  Statewide Unallocated    AL          1  1/22/20      0   \n2                0  Statewide Unallocated    AL          1  1/22/20      0   \n3                0  Statewide Unallocated    AL          1  1/22/20      0   \n4                0  Statewide Unallocated    AL          1  1/22/20      0   \n...            ...                    ...   ...        ...      ...    ...   \n863680       56037      Sweetwater County    WY         56  6/22/20     56   \n863681       56039           Teton County    WY         56  6/22/20    111   \n863682       56041           Uinta County    WY         56  6/22/20    148   \n863683       56043        Washakie County    WY         56  6/22/20     39   \n863684       56045          Weston County    WY         56  6/22/20      1   \n\n        Deaths  \n0            0  \n1            0  \n2            0  \n3            0  \n4            0  \n...        ...  \n863680       0  \n863681       1  \n863682       0  \n863683       5  \n863684       0  \n\n[863685 rows x 7 columns]",
      "text/html": "<div>\n<style scoped>\n    .dataframe tbody tr th:only-of-type {\n        vertical-align: middle;\n    }\n\n    .dataframe tbody tr th {\n        vertical-align: top;\n    }\n\n    .dataframe thead th {\n        text-align: right;\n    }\n</style>\n<table border=\"1\" class=\"dataframe\">\n  <thead>\n    <tr style=\"text-align: right;\">\n      <th></th>\n      <th>countyFIPS</th>\n      <th>County_Name</th>\n      <th>State</th>\n      <th>stateFIPS</th>\n      <th>Date</th>\n      <th>Cases</th>\n      <th>Deaths</th>\n    </tr>\n  </thead>\n  <tbody>\n    <tr>\n      <th>0</th>\n      <td>0</td>\n      <td>Statewide Unallocated</td>\n      <td>AL</td>\n      <td>1</td>\n      <td>1/22/20</td>\n      <td>0</td>\n      <td>0</td>\n    </tr>\n    <tr>\n      <th>1</th>\n      <td>0</td>\n      <td>Statewide Unallocated</td>\n      <td>AL</td>\n      <td>1</td>\n      <td>1/22/20</td>\n      <td>0</td>\n      <td>0</td>\n    </tr>\n    <tr>\n      <th>2</th>\n      <td>0</td>\n      <td>Statewide Unallocated</td>\n      <td>AL</td>\n      <td>1</td>\n      <td>1/22/20</td>\n      <td>0</td>\n      <td>0</td>\n    </tr>\n    <tr>\n      <th>3</th>\n      <td>0</td>\n      <td>Statewide Unallocated</td>\n      <td>AL</td>\n      <td>1</td>\n      <td>1/22/20</td>\n      <td>0</td>\n      <td>0</td>\n    </tr>\n    <tr>\n      <th>4</th>\n      <td>0</td>\n      <td>Statewide Unallocated</td>\n      <td>AL</td>\n      <td>1</td>\n      <td>1/22/20</td>\n      <td>0</td>\n      <td>0</td>\n    </tr>\n    <tr>\n      <th>...</th>\n      <td>...</td>\n      <td>...</td>\n      <td>...</td>\n      <td>...</td>\n      <td>...</td>\n      <td>...</td>\n      <td>...</td>\n    </tr>\n    <tr>\n      <th>863680</th>\n      <td>56037</td>\n      <td>Sweetwater County</td>\n      <td>WY</td>\n      <td>56</td>\n      <td>6/22/20</td>\n      <td>56</td>\n      <td>0</td>\n    </tr>\n    <tr>\n      <th>863681</th>\n      <td>56039</td>\n      <td>Teton County</td>\n      <td>WY</td>\n      <td>56</td>\n      <td>6/22/20</td>\n      <td>111</td>\n      <td>1</td>\n    </tr>\n    <tr>\n      <th>863682</th>\n      <td>56041</td>\n      <td>Uinta County</td>\n      <td>WY</td>\n      <td>56</td>\n      <td>6/22/20</td>\n      <td>148</td>\n      <td>0</td>\n    </tr>\n    <tr>\n      <th>863683</th>\n      <td>56043</td>\n      <td>Washakie County</td>\n      <td>WY</td>\n      <td>56</td>\n      <td>6/22/20</td>\n      <td>39</td>\n      <td>5</td>\n    </tr>\n    <tr>\n      <th>863684</th>\n      <td>56045</td>\n      <td>Weston County</td>\n      <td>WY</td>\n      <td>56</td>\n      <td>6/22/20</td>\n      <td>1</td>\n      <td>0</td>\n    </tr>\n  </tbody>\n</table>\n<p>863685 rows × 7 columns</p>\n</div>"
     },
     "execution_count": 1,
     "metadata": {},
     "output_type": "execute_result"
    }
   ],
   "source": [
    "import numpy as np\n",
    "import pandas as pd\n",
    "import time\n",
    "import os\n",
    "\n",
    "start_time = time.time()\n",
    "\n",
    "cases_df = pd.read_csv(\"https://usafactsstatic.blob.core.windows.net/public/data/covid-19/covid_confirmed_usafacts.csv\")\n",
    "cases_df = cases_df.melt(id_vars=[\"countyFIPS\", \"County Name\", \"State\", \"stateFIPS\"],\n",
    "        var_name=\"Date\",\n",
    "        value_name=\"Cases\")\n",
    "\n",
    "deaths_df = pd.read_csv(\"https://usafactsstatic.blob.core.windows.net/public/data/covid-19/covid_deaths_usafacts.csv\")\n",
    "deaths_df = deaths_df.melt(id_vars=[\"countyFIPS\", \"County Name\", \"State\", \"stateFIPS\"],\n",
    "        var_name=\"Date\",\n",
    "        value_name=\"Deaths\")\n",
    "deaths_df = deaths_df[['countyFIPS', 'Date', 'Deaths']]\n",
    "\n",
    "main_df = pd.merge(cases_df, deaths_df, \"inner\", on=['countyFIPS', 'Date'])\n",
    "main_df = main_df.rename(columns={'County Name': 'County_Name'})\n",
    "main_df"
   ],
   "metadata": {
    "collapsed": false,
    "pycharm": {
     "name": "#%%\n"
    }
   }
  },
  {
   "cell_type": "markdown",
   "source": [
    "Get list of FIPS and drop 0"
   ],
   "metadata": {
    "collapsed": false,
    "pycharm": {
     "name": "#%% md\n"
    }
   }
  },
  {
   "cell_type": "code",
   "execution_count": 2,
   "outputs": [
    {
     "data": {
      "text/plain": "array([ 1001,  1003,  1005, ..., 56041, 56043, 56045], dtype=int64)"
     },
     "execution_count": 2,
     "metadata": {},
     "output_type": "execute_result"
    }
   ],
   "source": [
    "fips = main_df.countyFIPS.unique()\n",
    "fips = fips[1:]\n",
    "fips"
   ],
   "metadata": {
    "collapsed": false,
    "pycharm": {
     "name": "#%%\n"
    }
   }
  },
  {
   "cell_type": "markdown",
   "source": [
    "Compute cases growth and death growth rates and 7day average for each county"
   ],
   "metadata": {
    "collapsed": false,
    "pycharm": {
     "name": "#%% md\n"
    }
   }
  },
  {
   "cell_type": "code",
   "execution_count": 3,
   "outputs": [
    {
     "data": {
      "text/plain": "        countyFIPS     County_Name State  stateFIPS     Date  Cases  Deaths  \\\n2500          1001  Autauga County    AL          1  1/22/20      0       0   \n8145          1001  Autauga County    AL          1  1/23/20      0       0   \n13790         1001  Autauga County    AL          1  1/24/20      0       0   \n19435         1001  Autauga County    AL          1  1/25/20      0       0   \n25080         1001  Autauga County    AL          1  1/26/20      0       0   \n...            ...             ...   ...        ...      ...    ...     ...   \n841104       56045   Weston County    WY         56  6/18/20      1       0   \n846749       56045   Weston County    WY         56  6/19/20      1       0   \n852394       56045   Weston County    WY         56  6/20/20      1       0   \n858039       56045   Weston County    WY         56  6/21/20      1       0   \n863684       56045   Weston County    WY         56  6/22/20      1       0   \n\n        dxdt  rate  rate7day  dydt  rate_deaths  rate_deaths7day  \n2500     0.0   0.0       0.0   0.0          0.0              0.0  \n8145     0.0   0.0       0.0   0.0          0.0              0.0  \n13790    0.0   0.0       0.0   0.0          0.0              0.0  \n19435    0.0   0.0       0.0   0.0          0.0              0.0  \n25080    0.0   0.0       0.0   0.0          0.0              0.0  \n...      ...   ...       ...   ...          ...              ...  \n841104   0.0   0.0       0.0   0.0          0.0              0.0  \n846749   0.0   0.0       0.0   0.0          0.0              0.0  \n852394   0.0   0.0       0.0   0.0          0.0              0.0  \n858039   0.0   0.0       0.0   0.0          0.0              0.0  \n863684   0.0   0.0       0.0   0.0          0.0              0.0  \n\n[481185 rows x 13 columns]",
      "text/html": "<div>\n<style scoped>\n    .dataframe tbody tr th:only-of-type {\n        vertical-align: middle;\n    }\n\n    .dataframe tbody tr th {\n        vertical-align: top;\n    }\n\n    .dataframe thead th {\n        text-align: right;\n    }\n</style>\n<table border=\"1\" class=\"dataframe\">\n  <thead>\n    <tr style=\"text-align: right;\">\n      <th></th>\n      <th>countyFIPS</th>\n      <th>County_Name</th>\n      <th>State</th>\n      <th>stateFIPS</th>\n      <th>Date</th>\n      <th>Cases</th>\n      <th>Deaths</th>\n      <th>dxdt</th>\n      <th>rate</th>\n      <th>rate7day</th>\n      <th>dydt</th>\n      <th>rate_deaths</th>\n      <th>rate_deaths7day</th>\n    </tr>\n  </thead>\n  <tbody>\n    <tr>\n      <th>2500</th>\n      <td>1001</td>\n      <td>Autauga County</td>\n      <td>AL</td>\n      <td>1</td>\n      <td>1/22/20</td>\n      <td>0</td>\n      <td>0</td>\n      <td>0.0</td>\n      <td>0.0</td>\n      <td>0.0</td>\n      <td>0.0</td>\n      <td>0.0</td>\n      <td>0.0</td>\n    </tr>\n    <tr>\n      <th>8145</th>\n      <td>1001</td>\n      <td>Autauga County</td>\n      <td>AL</td>\n      <td>1</td>\n      <td>1/23/20</td>\n      <td>0</td>\n      <td>0</td>\n      <td>0.0</td>\n      <td>0.0</td>\n      <td>0.0</td>\n      <td>0.0</td>\n      <td>0.0</td>\n      <td>0.0</td>\n    </tr>\n    <tr>\n      <th>13790</th>\n      <td>1001</td>\n      <td>Autauga County</td>\n      <td>AL</td>\n      <td>1</td>\n      <td>1/24/20</td>\n      <td>0</td>\n      <td>0</td>\n      <td>0.0</td>\n      <td>0.0</td>\n      <td>0.0</td>\n      <td>0.0</td>\n      <td>0.0</td>\n      <td>0.0</td>\n    </tr>\n    <tr>\n      <th>19435</th>\n      <td>1001</td>\n      <td>Autauga County</td>\n      <td>AL</td>\n      <td>1</td>\n      <td>1/25/20</td>\n      <td>0</td>\n      <td>0</td>\n      <td>0.0</td>\n      <td>0.0</td>\n      <td>0.0</td>\n      <td>0.0</td>\n      <td>0.0</td>\n      <td>0.0</td>\n    </tr>\n    <tr>\n      <th>25080</th>\n      <td>1001</td>\n      <td>Autauga County</td>\n      <td>AL</td>\n      <td>1</td>\n      <td>1/26/20</td>\n      <td>0</td>\n      <td>0</td>\n      <td>0.0</td>\n      <td>0.0</td>\n      <td>0.0</td>\n      <td>0.0</td>\n      <td>0.0</td>\n      <td>0.0</td>\n    </tr>\n    <tr>\n      <th>...</th>\n      <td>...</td>\n      <td>...</td>\n      <td>...</td>\n      <td>...</td>\n      <td>...</td>\n      <td>...</td>\n      <td>...</td>\n      <td>...</td>\n      <td>...</td>\n      <td>...</td>\n      <td>...</td>\n      <td>...</td>\n      <td>...</td>\n    </tr>\n    <tr>\n      <th>841104</th>\n      <td>56045</td>\n      <td>Weston County</td>\n      <td>WY</td>\n      <td>56</td>\n      <td>6/18/20</td>\n      <td>1</td>\n      <td>0</td>\n      <td>0.0</td>\n      <td>0.0</td>\n      <td>0.0</td>\n      <td>0.0</td>\n      <td>0.0</td>\n      <td>0.0</td>\n    </tr>\n    <tr>\n      <th>846749</th>\n      <td>56045</td>\n      <td>Weston County</td>\n      <td>WY</td>\n      <td>56</td>\n      <td>6/19/20</td>\n      <td>1</td>\n      <td>0</td>\n      <td>0.0</td>\n      <td>0.0</td>\n      <td>0.0</td>\n      <td>0.0</td>\n      <td>0.0</td>\n      <td>0.0</td>\n    </tr>\n    <tr>\n      <th>852394</th>\n      <td>56045</td>\n      <td>Weston County</td>\n      <td>WY</td>\n      <td>56</td>\n      <td>6/20/20</td>\n      <td>1</td>\n      <td>0</td>\n      <td>0.0</td>\n      <td>0.0</td>\n      <td>0.0</td>\n      <td>0.0</td>\n      <td>0.0</td>\n      <td>0.0</td>\n    </tr>\n    <tr>\n      <th>858039</th>\n      <td>56045</td>\n      <td>Weston County</td>\n      <td>WY</td>\n      <td>56</td>\n      <td>6/21/20</td>\n      <td>1</td>\n      <td>0</td>\n      <td>0.0</td>\n      <td>0.0</td>\n      <td>0.0</td>\n      <td>0.0</td>\n      <td>0.0</td>\n      <td>0.0</td>\n    </tr>\n    <tr>\n      <th>863684</th>\n      <td>56045</td>\n      <td>Weston County</td>\n      <td>WY</td>\n      <td>56</td>\n      <td>6/22/20</td>\n      <td>1</td>\n      <td>0</td>\n      <td>0.0</td>\n      <td>0.0</td>\n      <td>0.0</td>\n      <td>0.0</td>\n      <td>0.0</td>\n      <td>0.0</td>\n    </tr>\n  </tbody>\n</table>\n<p>481185 rows × 13 columns</p>\n</div>"
     },
     "execution_count": 3,
     "metadata": {},
     "output_type": "execute_result"
    }
   ],
   "source": [
    "# Suppress warnings\n",
    "pd.options.mode.chained_assignment = None\n",
    "\n",
    "for i in range(0, len(fips)):\n",
    "    temp_df = main_df[main_df.countyFIPS == fips[i]]\n",
    "    temp_df['dxdt'] = temp_df['Cases'].diff().fillna(0)\n",
    "    temp_df['rate'] = temp_df['Cases'].pct_change().fillna(0)\n",
    "    temp_df['rate7day'] = temp_df['rate'].rolling(window=7).mean().fillna(0)\n",
    "    temp_df['dydt'] = temp_df['Deaths'].diff().fillna(0)\n",
    "    temp_df['rate_deaths'] = temp_df['Deaths'].pct_change().fillna(0)\n",
    "    temp_df['rate_deaths7day'] = temp_df['rate_deaths'].rolling(window=7).mean().fillna(0)\n",
    "    temp_df = temp_df.replace(np.inf, 0)\n",
    "    if i == 0:\n",
    "        new_df = temp_df\n",
    "    else:\n",
    "        new_df = pd.concat([new_df, temp_df])\n",
    "new_df"
   ],
   "metadata": {
    "collapsed": false,
    "pycharm": {
     "name": "#%%\n"
    }
   }
  },
  {
   "cell_type": "markdown",
   "source": [
    "Export to csv"
   ],
   "metadata": {
    "collapsed": false,
    "pycharm": {
     "name": "#%% md\n"
    }
   }
  },
  {
   "cell_type": "code",
   "execution_count": 4,
   "outputs": [],
   "source": [
    "new_df.to_csv(os.path.join(\"output\", \"combined_usafacts.csv\"), index=False)"
   ],
   "metadata": {
    "collapsed": false,
    "pycharm": {
     "name": "#%%\n"
    }
   }
  },
  {
   "cell_type": "markdown",
   "source": [
    "Total Running time (s)"
   ],
   "metadata": {
    "collapsed": false
   }
  },
  {
   "cell_type": "code",
   "execution_count": 5,
   "outputs": [
    {
     "data": {
      "text/plain": "164.75600004196167"
     },
     "execution_count": 5,
     "metadata": {},
     "output_type": "execute_result"
    }
   ],
   "source": [
    "time.time() - start_time"
   ],
   "metadata": {
    "collapsed": false,
    "pycharm": {
     "name": "#%%\n"
    }
   }
  }
 ],
 "metadata": {
  "kernelspec": {
   "display_name": "Python 3",
   "language": "python",
   "name": "python3"
  },
  "language_info": {
   "codemirror_mode": {
    "name": "ipython",
    "version": 2
   },
   "file_extension": ".py",
   "mimetype": "text/x-python",
   "name": "python",
   "nbconvert_exporter": "python",
   "pygments_lexer": "ipython2",
   "version": "2.7.6"
  }
 },
 "nbformat": 4,
 "nbformat_minor": 0
}